{
 "cells": [
  {
   "attachments": {},
   "cell_type": "markdown",
   "metadata": {},
   "source": [
    "## 3글자 데이터 만들기"
   ]
  },
  {
   "cell_type": "code",
   "execution_count": null,
   "metadata": {},
   "outputs": [],
   "source": [
    "import cv2\n",
    "import numpy as np\n",
    "import itertools\n",
    "\n",
    "def img_concat3(img1, img2, img3):\n",
    "    h1, w1, c1 = img1.shape\n",
    "    h2, w2, c2 = img2.shape\n",
    "    h3, w3,\n",
    "    \n",
    "    if h1 > h2:\n",
    "        scale = h1/h2\n",
    "        x = int(w2 * scale)  # 너비\n",
    "        y = h1          # 높이\n",
    "        img22 = cv2.resize(img2, dsize=(x, y), interpolation=cv2.INTER_AREA)\n",
    "        result = cv2.hconcat([img1, img22])\n",
    "    else:\n",
    "        scale = h2/h1\n",
    "        x = int(w1 * scale)  # 너비\n",
    "        y = h2          # 높이\n",
    "        img11 = cv2.resize(img1, dsize=(x, y), interpolation=cv2.INTER_AREA)\n",
    "        result = cv2.hconcat([img11, img2])\n",
    "        \n",
    "    return result\n",
    "\n",
    "def img_enlarge(img):\n",
    "    h, w, c = img.shape\n",
    "\n",
    "    if w >= h: \n",
    "        length = int((w-h)/2)\n",
    "        tmp_img = np.ones((length, w, 3),dtype=np.uint8) * 255\n",
    "        result = cv2.vconcat([tmp_img, img, tmp_img])\n",
    "    else:\n",
    "        length = int((h-w)/2)\n",
    "        tmp_img = np.ones((h, length, 3),dtype=np.uint8) * 255\n",
    "        result = cv2.hconcat([tmp_img, img, tmp_img])\n",
    "\n",
    "    return result"
   ]
  }
 ],
 "metadata": {
  "language_info": {
   "name": "python"
  },
  "orig_nbformat": 4
 },
 "nbformat": 4,
 "nbformat_minor": 2
}
